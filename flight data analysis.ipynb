{
 "cells": [
  {
   "cell_type": "code",
   "execution_count": 1,
   "id": "a7fcbf6e-023c-4054-8b97-3f4f0294aafe",
   "metadata": {},
   "outputs": [],
   "source": [
    "# importing necessary libraries\n",
    "import pandas as pd\n",
    "import matplotlib.pyplot as plt\n",
    "import seaborn as sns\n",
    "from scipy import stats\n",
    "from datetime import datetime, timedelta"
   ]
  },
  {
   "cell_type": "code",
   "execution_count": 2,
   "id": "c701faa6-d33f-410a-9baf-d206588f5802",
   "metadata": {},
   "outputs": [],
   "source": [
    "# dataset loading and preparation\n",
    "df = pd.read_csv('aviation_data.csv')"
   ]
  },
  {
   "cell_type": "code",
   "execution_count": 3,
   "id": "e6486e5d-5995-4a55-8fa1-3f5718dc939f",
   "metadata": {},
   "outputs": [
    {
     "data": {
      "text/plain": [
       "(12, 7)"
      ]
     },
     "execution_count": 3,
     "metadata": {},
     "output_type": "execute_result"
    }
   ],
   "source": [
    "df.shape"
   ]
  },
  {
   "cell_type": "code",
   "execution_count": 4,
   "id": "b294af97-e08f-4bf0-8193-12cca604eaf9",
   "metadata": {},
   "outputs": [
    {
     "data": {
      "text/html": [
       "<div>\n",
       "<style scoped>\n",
       "    .dataframe tbody tr th:only-of-type {\n",
       "        vertical-align: middle;\n",
       "    }\n",
       "\n",
       "    .dataframe tbody tr th {\n",
       "        vertical-align: top;\n",
       "    }\n",
       "\n",
       "    .dataframe thead th {\n",
       "        text-align: right;\n",
       "    }\n",
       "</style>\n",
       "<table border=\"1\" class=\"dataframe\">\n",
       "  <thead>\n",
       "    <tr style=\"text-align: right;\">\n",
       "      <th></th>\n",
       "      <th>FlightNumber</th>\n",
       "      <th>DepartureDate</th>\n",
       "      <th>DepartureTime</th>\n",
       "      <th>ArrivalDate</th>\n",
       "      <th>ArrivalTime</th>\n",
       "      <th>Airline</th>\n",
       "      <th>DelayMinutes</th>\n",
       "    </tr>\n",
       "  </thead>\n",
       "  <tbody>\n",
       "    <tr>\n",
       "      <th>0</th>\n",
       "      <td>AA1234</td>\n",
       "      <td>09/01/2023</td>\n",
       "      <td>08:30 AM</td>\n",
       "      <td>09/01/2023</td>\n",
       "      <td>10:45 AM</td>\n",
       "      <td>American Airlines</td>\n",
       "      <td>15.0</td>\n",
       "    </tr>\n",
       "    <tr>\n",
       "      <th>1</th>\n",
       "      <td>DL5678</td>\n",
       "      <td>09/01/2023</td>\n",
       "      <td>01:15 PM</td>\n",
       "      <td>09/01/2023</td>\n",
       "      <td>03:30 PM</td>\n",
       "      <td>Delta</td>\n",
       "      <td>5.0</td>\n",
       "    </tr>\n",
       "    <tr>\n",
       "      <th>2</th>\n",
       "      <td>UA9101</td>\n",
       "      <td>09/01/2023</td>\n",
       "      <td>05:00 PM</td>\n",
       "      <td>09/01/2023</td>\n",
       "      <td>07:15 PM</td>\n",
       "      <td>United Airlines</td>\n",
       "      <td>25.0</td>\n",
       "    </tr>\n",
       "    <tr>\n",
       "      <th>3</th>\n",
       "      <td>AA1234</td>\n",
       "      <td>09/01/2023</td>\n",
       "      <td>08:30 AM</td>\n",
       "      <td>09/01/2023</td>\n",
       "      <td>10:45 PM</td>\n",
       "      <td>American Airlines</td>\n",
       "      <td>30.0</td>\n",
       "    </tr>\n",
       "    <tr>\n",
       "      <th>4</th>\n",
       "      <td>DL5678</td>\n",
       "      <td>09/02/2023</td>\n",
       "      <td>02:00 PM</td>\n",
       "      <td>09/02/2023</td>\n",
       "      <td>04:10 PM</td>\n",
       "      <td>Delta</td>\n",
       "      <td>NaN</td>\n",
       "    </tr>\n",
       "  </tbody>\n",
       "</table>\n",
       "</div>"
      ],
      "text/plain": [
       "  FlightNumber DepartureDate DepartureTime ArrivalDate ArrivalTime  \\\n",
       "0       AA1234    09/01/2023      08:30 AM  09/01/2023    10:45 AM   \n",
       "1       DL5678    09/01/2023      01:15 PM  09/01/2023    03:30 PM   \n",
       "2       UA9101    09/01/2023      05:00 PM  09/01/2023    07:15 PM   \n",
       "3       AA1234    09/01/2023      08:30 AM  09/01/2023    10:45 PM   \n",
       "4       DL5678    09/02/2023      02:00 PM  09/02/2023    04:10 PM   \n",
       "\n",
       "             Airline  DelayMinutes  \n",
       "0  American Airlines          15.0  \n",
       "1              Delta           5.0  \n",
       "2    United Airlines          25.0  \n",
       "3  American Airlines          30.0  \n",
       "4              Delta           NaN  "
      ]
     },
     "execution_count": 4,
     "metadata": {},
     "output_type": "execute_result"
    }
   ],
   "source": [
    "df.head()"
   ]
  },
  {
   "cell_type": "code",
   "execution_count": 5,
   "id": "26d949ca-ca37-4ff0-ba22-ca8f07e251c0",
   "metadata": {},
   "outputs": [
    {
     "name": "stdout",
     "output_type": "stream",
     "text": [
      "<class 'pandas.core.frame.DataFrame'>\n",
      "RangeIndex: 12 entries, 0 to 11\n",
      "Data columns (total 7 columns):\n",
      " #   Column         Non-Null Count  Dtype  \n",
      "---  ------         --------------  -----  \n",
      " 0   FlightNumber   12 non-null     object \n",
      " 1   DepartureDate  12 non-null     object \n",
      " 2   DepartureTime  12 non-null     object \n",
      " 3   ArrivalDate    12 non-null     object \n",
      " 4   ArrivalTime    12 non-null     object \n",
      " 5   Airline        12 non-null     object \n",
      " 6   DelayMinutes   10 non-null     float64\n",
      "dtypes: float64(1), object(6)\n",
      "memory usage: 804.0+ bytes\n"
     ]
    }
   ],
   "source": [
    "df.info()"
   ]
  },
  {
   "cell_type": "code",
   "execution_count": 6,
   "id": "14c3dbdc-eed0-4698-a7c0-fe4c6f6312f8",
   "metadata": {},
   "outputs": [
    {
     "data": {
      "text/plain": [
       "FlightNumber     0\n",
       "DepartureDate    0\n",
       "DepartureTime    0\n",
       "ArrivalDate      0\n",
       "ArrivalTime      0\n",
       "Airline          0\n",
       "DelayMinutes     2\n",
       "dtype: int64"
      ]
     },
     "execution_count": 6,
     "metadata": {},
     "output_type": "execute_result"
    }
   ],
   "source": [
    "df.isnull().sum()"
   ]
  },
  {
   "cell_type": "markdown",
   "id": "5d76e401-6be1-4c6e-b920-dfd23dd38a57",
   "metadata": {},
   "source": [
    "## Few conclusions:\n",
    "### 1. Missing values in DelayMinutes column\n",
    "### 2. Since the dataset is small, a good way to fill in the missing DelayMinutes values is to use the median delay for each airline.\n",
    "### 3. Many columns have inappropriate data types"
   ]
  },
  {
   "cell_type": "markdown",
   "id": "07bdc453-ec2b-4069-8fbc-6e52082e11b6",
   "metadata": {},
   "source": [
    "## Required Actions:\n",
    "- ### Create a copy of the dataset to experiment without affecting the original data.\n",
    "- ### Merge DepartureDate with DepartureTime and ArrivalDate with ArrivalTime, then drop unnecessary columns for easier analysis of flight duration, delays, and trends."
   ]
  },
  {
   "cell_type": "code",
   "execution_count": 7,
   "id": "7563c8b2-57ac-41e8-a76e-cd3baa4a5953",
   "metadata": {},
   "outputs": [],
   "source": [
    "# creating another copy of dataset\n",
    "df_copy = df.copy()"
   ]
  },
  {
   "cell_type": "code",
   "execution_count": 8,
   "id": "d2bdf521-57ea-438a-9176-c95bff348231",
   "metadata": {},
   "outputs": [
    {
     "data": {
      "text/html": [
       "<div>\n",
       "<style scoped>\n",
       "    .dataframe tbody tr th:only-of-type {\n",
       "        vertical-align: middle;\n",
       "    }\n",
       "\n",
       "    .dataframe tbody tr th {\n",
       "        vertical-align: top;\n",
       "    }\n",
       "\n",
       "    .dataframe thead th {\n",
       "        text-align: right;\n",
       "    }\n",
       "</style>\n",
       "<table border=\"1\" class=\"dataframe\">\n",
       "  <thead>\n",
       "    <tr style=\"text-align: right;\">\n",
       "      <th></th>\n",
       "      <th>FlightNumber</th>\n",
       "      <th>DepartureDate</th>\n",
       "      <th>DepartureTime</th>\n",
       "      <th>ArrivalDate</th>\n",
       "      <th>ArrivalTime</th>\n",
       "      <th>Airline</th>\n",
       "      <th>DelayMinutes</th>\n",
       "    </tr>\n",
       "  </thead>\n",
       "  <tbody>\n",
       "    <tr>\n",
       "      <th>0</th>\n",
       "      <td>AA1234</td>\n",
       "      <td>09/01/2023</td>\n",
       "      <td>08:30 AM</td>\n",
       "      <td>09/01/2023</td>\n",
       "      <td>10:45 AM</td>\n",
       "      <td>American Airlines</td>\n",
       "      <td>15.0</td>\n",
       "    </tr>\n",
       "    <tr>\n",
       "      <th>1</th>\n",
       "      <td>DL5678</td>\n",
       "      <td>09/01/2023</td>\n",
       "      <td>01:15 PM</td>\n",
       "      <td>09/01/2023</td>\n",
       "      <td>03:30 PM</td>\n",
       "      <td>Delta</td>\n",
       "      <td>5.0</td>\n",
       "    </tr>\n",
       "    <tr>\n",
       "      <th>2</th>\n",
       "      <td>UA9101</td>\n",
       "      <td>09/01/2023</td>\n",
       "      <td>05:00 PM</td>\n",
       "      <td>09/01/2023</td>\n",
       "      <td>07:15 PM</td>\n",
       "      <td>United Airlines</td>\n",
       "      <td>25.0</td>\n",
       "    </tr>\n",
       "    <tr>\n",
       "      <th>3</th>\n",
       "      <td>AA1234</td>\n",
       "      <td>09/01/2023</td>\n",
       "      <td>08:30 AM</td>\n",
       "      <td>09/01/2023</td>\n",
       "      <td>10:45 PM</td>\n",
       "      <td>American Airlines</td>\n",
       "      <td>30.0</td>\n",
       "    </tr>\n",
       "    <tr>\n",
       "      <th>4</th>\n",
       "      <td>DL5678</td>\n",
       "      <td>09/02/2023</td>\n",
       "      <td>02:00 PM</td>\n",
       "      <td>09/02/2023</td>\n",
       "      <td>04:10 PM</td>\n",
       "      <td>Delta</td>\n",
       "      <td>NaN</td>\n",
       "    </tr>\n",
       "  </tbody>\n",
       "</table>\n",
       "</div>"
      ],
      "text/plain": [
       "  FlightNumber DepartureDate DepartureTime ArrivalDate ArrivalTime  \\\n",
       "0       AA1234    09/01/2023      08:30 AM  09/01/2023    10:45 AM   \n",
       "1       DL5678    09/01/2023      01:15 PM  09/01/2023    03:30 PM   \n",
       "2       UA9101    09/01/2023      05:00 PM  09/01/2023    07:15 PM   \n",
       "3       AA1234    09/01/2023      08:30 AM  09/01/2023    10:45 PM   \n",
       "4       DL5678    09/02/2023      02:00 PM  09/02/2023    04:10 PM   \n",
       "\n",
       "             Airline  DelayMinutes  \n",
       "0  American Airlines          15.0  \n",
       "1              Delta           5.0  \n",
       "2    United Airlines          25.0  \n",
       "3  American Airlines          30.0  \n",
       "4              Delta           NaN  "
      ]
     },
     "execution_count": 8,
     "metadata": {},
     "output_type": "execute_result"
    }
   ],
   "source": [
    "df_copy.head()"
   ]
  },
  {
   "cell_type": "code",
   "execution_count": 9,
   "id": "d9b8725a-16d4-4ffb-9905-5a45e367a235",
   "metadata": {},
   "outputs": [
    {
     "data": {
      "text/html": [
       "<div>\n",
       "<style scoped>\n",
       "    .dataframe tbody tr th:only-of-type {\n",
       "        vertical-align: middle;\n",
       "    }\n",
       "\n",
       "    .dataframe tbody tr th {\n",
       "        vertical-align: top;\n",
       "    }\n",
       "\n",
       "    .dataframe thead th {\n",
       "        text-align: right;\n",
       "    }\n",
       "</style>\n",
       "<table border=\"1\" class=\"dataframe\">\n",
       "  <thead>\n",
       "    <tr style=\"text-align: right;\">\n",
       "      <th></th>\n",
       "      <th>FlightNumber</th>\n",
       "      <th>Airline</th>\n",
       "      <th>DelayMinutes</th>\n",
       "      <th>DepartureDatetime</th>\n",
       "      <th>ArrivalDatetime</th>\n",
       "    </tr>\n",
       "  </thead>\n",
       "  <tbody>\n",
       "    <tr>\n",
       "      <th>0</th>\n",
       "      <td>AA1234</td>\n",
       "      <td>American Airlines</td>\n",
       "      <td>15.0</td>\n",
       "      <td>2023-09-01 08:30:00</td>\n",
       "      <td>2023-09-01 10:45:00</td>\n",
       "    </tr>\n",
       "    <tr>\n",
       "      <th>1</th>\n",
       "      <td>DL5678</td>\n",
       "      <td>Delta</td>\n",
       "      <td>5.0</td>\n",
       "      <td>2023-09-01 13:15:00</td>\n",
       "      <td>2023-09-01 15:30:00</td>\n",
       "    </tr>\n",
       "    <tr>\n",
       "      <th>2</th>\n",
       "      <td>UA9101</td>\n",
       "      <td>United Airlines</td>\n",
       "      <td>25.0</td>\n",
       "      <td>2023-09-01 17:00:00</td>\n",
       "      <td>2023-09-01 19:15:00</td>\n",
       "    </tr>\n",
       "    <tr>\n",
       "      <th>3</th>\n",
       "      <td>AA1234</td>\n",
       "      <td>American Airlines</td>\n",
       "      <td>30.0</td>\n",
       "      <td>2023-09-01 08:30:00</td>\n",
       "      <td>2023-09-01 22:45:00</td>\n",
       "    </tr>\n",
       "    <tr>\n",
       "      <th>4</th>\n",
       "      <td>DL5678</td>\n",
       "      <td>Delta</td>\n",
       "      <td>NaN</td>\n",
       "      <td>2023-09-02 14:00:00</td>\n",
       "      <td>2023-09-02 16:10:00</td>\n",
       "    </tr>\n",
       "    <tr>\n",
       "      <th>5</th>\n",
       "      <td>UA9101</td>\n",
       "      <td>United Airlines</td>\n",
       "      <td>20.0</td>\n",
       "      <td>2023-09-02 17:00:00</td>\n",
       "      <td>2023-09-02 19:15:00</td>\n",
       "    </tr>\n",
       "    <tr>\n",
       "      <th>6</th>\n",
       "      <td>AA1234</td>\n",
       "      <td>American Airlines</td>\n",
       "      <td>60.0</td>\n",
       "      <td>2023-09-02 20:30:00</td>\n",
       "      <td>2023-09-03 10:45:00</td>\n",
       "    </tr>\n",
       "    <tr>\n",
       "      <th>7</th>\n",
       "      <td>DL5678</td>\n",
       "      <td>Delta</td>\n",
       "      <td>10.0</td>\n",
       "      <td>2023-09-03 13:00:00</td>\n",
       "      <td>2023-09-03 15:30:00</td>\n",
       "    </tr>\n",
       "    <tr>\n",
       "      <th>8</th>\n",
       "      <td>UA9101</td>\n",
       "      <td>United Airlines</td>\n",
       "      <td>NaN</td>\n",
       "      <td>2023-09-03 15:00:00</td>\n",
       "      <td>2023-09-03 17:20:00</td>\n",
       "    </tr>\n",
       "    <tr>\n",
       "      <th>9</th>\n",
       "      <td>AA1234</td>\n",
       "      <td>American Airlines</td>\n",
       "      <td>15.0</td>\n",
       "      <td>2023-09-03 08:30:00</td>\n",
       "      <td>2023-09-03 10:00:00</td>\n",
       "    </tr>\n",
       "    <tr>\n",
       "      <th>10</th>\n",
       "      <td>DL5678</td>\n",
       "      <td>Delta</td>\n",
       "      <td>25.0</td>\n",
       "      <td>2023-09-04 12:30:00</td>\n",
       "      <td>2023-09-04 14:40:00</td>\n",
       "    </tr>\n",
       "    <tr>\n",
       "      <th>11</th>\n",
       "      <td>UA9101</td>\n",
       "      <td>United Airlines</td>\n",
       "      <td>45.0</td>\n",
       "      <td>2023-09-04 19:00:00</td>\n",
       "      <td>2023-09-04 21:15:00</td>\n",
       "    </tr>\n",
       "  </tbody>\n",
       "</table>\n",
       "</div>"
      ],
      "text/plain": [
       "   FlightNumber            Airline  DelayMinutes   DepartureDatetime  \\\n",
       "0        AA1234  American Airlines          15.0 2023-09-01 08:30:00   \n",
       "1        DL5678              Delta           5.0 2023-09-01 13:15:00   \n",
       "2        UA9101    United Airlines          25.0 2023-09-01 17:00:00   \n",
       "3        AA1234  American Airlines          30.0 2023-09-01 08:30:00   \n",
       "4        DL5678              Delta           NaN 2023-09-02 14:00:00   \n",
       "5        UA9101    United Airlines          20.0 2023-09-02 17:00:00   \n",
       "6        AA1234  American Airlines          60.0 2023-09-02 20:30:00   \n",
       "7        DL5678              Delta          10.0 2023-09-03 13:00:00   \n",
       "8        UA9101    United Airlines           NaN 2023-09-03 15:00:00   \n",
       "9        AA1234  American Airlines          15.0 2023-09-03 08:30:00   \n",
       "10       DL5678              Delta          25.0 2023-09-04 12:30:00   \n",
       "11       UA9101    United Airlines          45.0 2023-09-04 19:00:00   \n",
       "\n",
       "       ArrivalDatetime  \n",
       "0  2023-09-01 10:45:00  \n",
       "1  2023-09-01 15:30:00  \n",
       "2  2023-09-01 19:15:00  \n",
       "3  2023-09-01 22:45:00  \n",
       "4  2023-09-02 16:10:00  \n",
       "5  2023-09-02 19:15:00  \n",
       "6  2023-09-03 10:45:00  \n",
       "7  2023-09-03 15:30:00  \n",
       "8  2023-09-03 17:20:00  \n",
       "9  2023-09-03 10:00:00  \n",
       "10 2023-09-04 14:40:00  \n",
       "11 2023-09-04 21:15:00  "
      ]
     },
     "execution_count": 9,
     "metadata": {},
     "output_type": "execute_result"
    }
   ],
   "source": [
    "# Combine date and time into a single datetime column for both departure and arrival\n",
    "df['DepartureDatetime'] = pd.to_datetime(df['DepartureDate'] + ' ' + df['DepartureTime'])\n",
    "df['ArrivalDatetime'] = pd.to_datetime(df['ArrivalDate'] + ' ' + df['ArrivalTime'])\n",
    "\n",
    "# Drop the separate date and time columns if no longer needed\n",
    "df = df.drop(columns=['DepartureDate', 'DepartureTime', 'ArrivalDate', 'ArrivalTime'])\n",
    "\n",
    "# Display the DataFrame with the new datetime columns\n",
    "df"
   ]
  },
  {
   "cell_type": "code",
   "execution_count": 10,
   "id": "15c41db0-a6dc-4444-9b79-7e5935d40741",
   "metadata": {},
   "outputs": [],
   "source": [
    "# rearranging the columns for better readability\n",
    "df = df[['FlightNumber', 'Airline', 'DepartureDatetime', 'ArrivalDatetime', 'DelayMinutes']]"
   ]
  },
  {
   "cell_type": "code",
   "execution_count": 11,
   "id": "c876505c-b6c7-4a34-9b29-157cd0ed61c7",
   "metadata": {},
   "outputs": [
    {
     "data": {
      "text/html": [
       "<div>\n",
       "<style scoped>\n",
       "    .dataframe tbody tr th:only-of-type {\n",
       "        vertical-align: middle;\n",
       "    }\n",
       "\n",
       "    .dataframe tbody tr th {\n",
       "        vertical-align: top;\n",
       "    }\n",
       "\n",
       "    .dataframe thead th {\n",
       "        text-align: right;\n",
       "    }\n",
       "</style>\n",
       "<table border=\"1\" class=\"dataframe\">\n",
       "  <thead>\n",
       "    <tr style=\"text-align: right;\">\n",
       "      <th></th>\n",
       "      <th>FlightNumber</th>\n",
       "      <th>Airline</th>\n",
       "      <th>DepartureDatetime</th>\n",
       "      <th>ArrivalDatetime</th>\n",
       "      <th>DelayMinutes</th>\n",
       "    </tr>\n",
       "  </thead>\n",
       "  <tbody>\n",
       "    <tr>\n",
       "      <th>0</th>\n",
       "      <td>AA1234</td>\n",
       "      <td>American Airlines</td>\n",
       "      <td>2023-09-01 08:30:00</td>\n",
       "      <td>2023-09-01 10:45:00</td>\n",
       "      <td>15.0</td>\n",
       "    </tr>\n",
       "    <tr>\n",
       "      <th>1</th>\n",
       "      <td>DL5678</td>\n",
       "      <td>Delta</td>\n",
       "      <td>2023-09-01 13:15:00</td>\n",
       "      <td>2023-09-01 15:30:00</td>\n",
       "      <td>5.0</td>\n",
       "    </tr>\n",
       "    <tr>\n",
       "      <th>2</th>\n",
       "      <td>UA9101</td>\n",
       "      <td>United Airlines</td>\n",
       "      <td>2023-09-01 17:00:00</td>\n",
       "      <td>2023-09-01 19:15:00</td>\n",
       "      <td>25.0</td>\n",
       "    </tr>\n",
       "    <tr>\n",
       "      <th>3</th>\n",
       "      <td>AA1234</td>\n",
       "      <td>American Airlines</td>\n",
       "      <td>2023-09-01 08:30:00</td>\n",
       "      <td>2023-09-01 22:45:00</td>\n",
       "      <td>30.0</td>\n",
       "    </tr>\n",
       "    <tr>\n",
       "      <th>4</th>\n",
       "      <td>DL5678</td>\n",
       "      <td>Delta</td>\n",
       "      <td>2023-09-02 14:00:00</td>\n",
       "      <td>2023-09-02 16:10:00</td>\n",
       "      <td>NaN</td>\n",
       "    </tr>\n",
       "    <tr>\n",
       "      <th>5</th>\n",
       "      <td>UA9101</td>\n",
       "      <td>United Airlines</td>\n",
       "      <td>2023-09-02 17:00:00</td>\n",
       "      <td>2023-09-02 19:15:00</td>\n",
       "      <td>20.0</td>\n",
       "    </tr>\n",
       "    <tr>\n",
       "      <th>6</th>\n",
       "      <td>AA1234</td>\n",
       "      <td>American Airlines</td>\n",
       "      <td>2023-09-02 20:30:00</td>\n",
       "      <td>2023-09-03 10:45:00</td>\n",
       "      <td>60.0</td>\n",
       "    </tr>\n",
       "    <tr>\n",
       "      <th>7</th>\n",
       "      <td>DL5678</td>\n",
       "      <td>Delta</td>\n",
       "      <td>2023-09-03 13:00:00</td>\n",
       "      <td>2023-09-03 15:30:00</td>\n",
       "      <td>10.0</td>\n",
       "    </tr>\n",
       "    <tr>\n",
       "      <th>8</th>\n",
       "      <td>UA9101</td>\n",
       "      <td>United Airlines</td>\n",
       "      <td>2023-09-03 15:00:00</td>\n",
       "      <td>2023-09-03 17:20:00</td>\n",
       "      <td>NaN</td>\n",
       "    </tr>\n",
       "    <tr>\n",
       "      <th>9</th>\n",
       "      <td>AA1234</td>\n",
       "      <td>American Airlines</td>\n",
       "      <td>2023-09-03 08:30:00</td>\n",
       "      <td>2023-09-03 10:00:00</td>\n",
       "      <td>15.0</td>\n",
       "    </tr>\n",
       "    <tr>\n",
       "      <th>10</th>\n",
       "      <td>DL5678</td>\n",
       "      <td>Delta</td>\n",
       "      <td>2023-09-04 12:30:00</td>\n",
       "      <td>2023-09-04 14:40:00</td>\n",
       "      <td>25.0</td>\n",
       "    </tr>\n",
       "    <tr>\n",
       "      <th>11</th>\n",
       "      <td>UA9101</td>\n",
       "      <td>United Airlines</td>\n",
       "      <td>2023-09-04 19:00:00</td>\n",
       "      <td>2023-09-04 21:15:00</td>\n",
       "      <td>45.0</td>\n",
       "    </tr>\n",
       "  </tbody>\n",
       "</table>\n",
       "</div>"
      ],
      "text/plain": [
       "   FlightNumber            Airline   DepartureDatetime     ArrivalDatetime  \\\n",
       "0        AA1234  American Airlines 2023-09-01 08:30:00 2023-09-01 10:45:00   \n",
       "1        DL5678              Delta 2023-09-01 13:15:00 2023-09-01 15:30:00   \n",
       "2        UA9101    United Airlines 2023-09-01 17:00:00 2023-09-01 19:15:00   \n",
       "3        AA1234  American Airlines 2023-09-01 08:30:00 2023-09-01 22:45:00   \n",
       "4        DL5678              Delta 2023-09-02 14:00:00 2023-09-02 16:10:00   \n",
       "5        UA9101    United Airlines 2023-09-02 17:00:00 2023-09-02 19:15:00   \n",
       "6        AA1234  American Airlines 2023-09-02 20:30:00 2023-09-03 10:45:00   \n",
       "7        DL5678              Delta 2023-09-03 13:00:00 2023-09-03 15:30:00   \n",
       "8        UA9101    United Airlines 2023-09-03 15:00:00 2023-09-03 17:20:00   \n",
       "9        AA1234  American Airlines 2023-09-03 08:30:00 2023-09-03 10:00:00   \n",
       "10       DL5678              Delta 2023-09-04 12:30:00 2023-09-04 14:40:00   \n",
       "11       UA9101    United Airlines 2023-09-04 19:00:00 2023-09-04 21:15:00   \n",
       "\n",
       "    DelayMinutes  \n",
       "0           15.0  \n",
       "1            5.0  \n",
       "2           25.0  \n",
       "3           30.0  \n",
       "4            NaN  \n",
       "5           20.0  \n",
       "6           60.0  \n",
       "7           10.0  \n",
       "8            NaN  \n",
       "9           15.0  \n",
       "10          25.0  \n",
       "11          45.0  "
      ]
     },
     "execution_count": 11,
     "metadata": {},
     "output_type": "execute_result"
    }
   ],
   "source": [
    "df"
   ]
  },
  {
   "cell_type": "code",
   "execution_count": 12,
   "id": "507852db-03d9-4c4d-b49a-bd32f7caecfa",
   "metadata": {},
   "outputs": [
    {
     "name": "stdout",
     "output_type": "stream",
     "text": [
      "<class 'pandas.core.frame.DataFrame'>\n",
      "RangeIndex: 12 entries, 0 to 11\n",
      "Data columns (total 5 columns):\n",
      " #   Column             Non-Null Count  Dtype         \n",
      "---  ------             --------------  -----         \n",
      " 0   FlightNumber       12 non-null     object        \n",
      " 1   Airline            12 non-null     object        \n",
      " 2   DepartureDatetime  12 non-null     datetime64[ns]\n",
      " 3   ArrivalDatetime    12 non-null     datetime64[ns]\n",
      " 4   DelayMinutes       10 non-null     float64       \n",
      "dtypes: datetime64[ns](2), float64(1), object(2)\n",
      "memory usage: 612.0+ bytes\n"
     ]
    }
   ],
   "source": [
    "df.info()"
   ]
  },
  {
   "cell_type": "markdown",
   "id": "6db07eea-e450-4f71-97bb-59b02eea736c",
   "metadata": {},
   "source": [
    "# 1. DATASET ISSUES AND REQUIREMENTS"
   ]
  },
  {
   "cell_type": "markdown",
   "id": "71c380dc-c750-4365-826a-43cc69cb3840",
   "metadata": {},
   "source": [
    "## a. Inconsistent Date and Time Formats:"
   ]
  },
  {
   "cell_type": "code",
   "execution_count": 13,
   "id": "b1b99d84-54f4-4f26-84fe-174a931f3e5b",
   "metadata": {},
   "outputs": [],
   "source": [
    "# here I'm performing operation on the df_copy dataset\n",
    "# Convert columns to appropriate data types\n",
    "df_copy['DepartureDate'] = pd.to_datetime(df_copy['DepartureDate'], format='%m/%d/%Y')\n",
    "df_copy['ArrivalDate'] = pd.to_datetime(df_copy['ArrivalDate'], format='%m/%d/%Y')\n",
    "df_copy['DepartureTime'] = pd.to_datetime(df_copy['DepartureTime'], format='%I:%M %p').dt.time\n",
    "df_copy['ArrivalTime'] = pd.to_datetime(df_copy['ArrivalTime'], format='%I:%M %p').dt.time\n",
    "df_copy['DelayMinutes'] = df_copy['DelayMinutes'].astype('float64')"
   ]
  },
  {
   "cell_type": "code",
   "execution_count": 14,
   "id": "829a3645-ee92-4888-9ee5-e5dc493d897b",
   "metadata": {},
   "outputs": [
    {
     "name": "stdout",
     "output_type": "stream",
     "text": [
      "<class 'pandas.core.frame.DataFrame'>\n",
      "RangeIndex: 12 entries, 0 to 11\n",
      "Data columns (total 7 columns):\n",
      " #   Column         Non-Null Count  Dtype         \n",
      "---  ------         --------------  -----         \n",
      " 0   FlightNumber   12 non-null     object        \n",
      " 1   DepartureDate  12 non-null     datetime64[ns]\n",
      " 2   DepartureTime  12 non-null     object        \n",
      " 3   ArrivalDate    12 non-null     datetime64[ns]\n",
      " 4   ArrivalTime    12 non-null     object        \n",
      " 5   Airline        12 non-null     object        \n",
      " 6   DelayMinutes   10 non-null     float64       \n",
      "dtypes: datetime64[ns](2), float64(1), object(4)\n",
      "memory usage: 804.0+ bytes\n"
     ]
    }
   ],
   "source": [
    "df_copy.info()"
   ]
  },
  {
   "cell_type": "code",
   "execution_count": 15,
   "id": "3521e2a9-9f08-4ec9-9625-1e8bea797fa4",
   "metadata": {},
   "outputs": [
    {
     "name": "stdout",
     "output_type": "stream",
     "text": [
      "Type of a single DepartureTime value:\n",
      "<class 'datetime.time'>\n"
     ]
    }
   ],
   "source": [
    "print(\"Type of a single DepartureTime value:\")\n",
    "print(type(df_copy['DepartureTime'].iloc[0]))"
   ]
  },
  {
   "cell_type": "markdown",
   "id": "1d3bf64c-3f23-4bc1-a51f-2db47cde5a35",
   "metadata": {},
   "source": [
    "## b. Missing Values:"
   ]
  },
  {
   "cell_type": "code",
   "execution_count": 16,
   "id": "73e1edd3-000a-4c9b-a87b-698d26fae119",
   "metadata": {},
   "outputs": [
    {
     "name": "stdout",
     "output_type": "stream",
     "text": [
      "FlightNumber         0\n",
      "Airline              0\n",
      "DepartureDatetime    0\n",
      "ArrivalDatetime      0\n",
      "DelayMinutes         2\n",
      "dtype: int64\n"
     ]
    }
   ],
   "source": [
    "# Checking for missing values\n",
    "print(df.isnull().sum())"
   ]
  },
  {
   "cell_type": "markdown",
   "id": "611ecc8e-be95-462a-8fcb-5191deab1961",
   "metadata": {},
   "source": [
    "- ### A good way to fill in the missing DelayMinutes values is to use the median delay for each airline.\n",
    "- ### This keeps the data relevant and accurate.\n",
    "- ### The data type of DelayMinutes is float64 which is ideal for the numeric operations and handling NaN values.\n",
    "- ### We can use the median instead of the mean because it’s less affected by outliers, giving us a more reliable and typical value.\n",
    "- ### Given the small sample size, median might be more robust"
   ]
  },
  {
   "cell_type": "code",
   "execution_count": 17,
   "id": "f9106d69-0e64-42df-a02d-61ee24afe579",
   "metadata": {},
   "outputs": [],
   "source": [
    "df['DelayMinutes'] = df.groupby('Airline')['DelayMinutes'].transform(lambda x: x.fillna(x.median()))"
   ]
  },
  {
   "cell_type": "code",
   "execution_count": 18,
   "id": "7a8bac6d-4a01-4e4f-9218-baf4402d4a68",
   "metadata": {},
   "outputs": [
    {
     "data": {
      "text/html": [
       "<div>\n",
       "<style scoped>\n",
       "    .dataframe tbody tr th:only-of-type {\n",
       "        vertical-align: middle;\n",
       "    }\n",
       "\n",
       "    .dataframe tbody tr th {\n",
       "        vertical-align: top;\n",
       "    }\n",
       "\n",
       "    .dataframe thead th {\n",
       "        text-align: right;\n",
       "    }\n",
       "</style>\n",
       "<table border=\"1\" class=\"dataframe\">\n",
       "  <thead>\n",
       "    <tr style=\"text-align: right;\">\n",
       "      <th></th>\n",
       "      <th>FlightNumber</th>\n",
       "      <th>Airline</th>\n",
       "      <th>DepartureDatetime</th>\n",
       "      <th>ArrivalDatetime</th>\n",
       "      <th>DelayMinutes</th>\n",
       "    </tr>\n",
       "  </thead>\n",
       "  <tbody>\n",
       "    <tr>\n",
       "      <th>0</th>\n",
       "      <td>AA1234</td>\n",
       "      <td>American Airlines</td>\n",
       "      <td>2023-09-01 08:30:00</td>\n",
       "      <td>2023-09-01 10:45:00</td>\n",
       "      <td>15.0</td>\n",
       "    </tr>\n",
       "    <tr>\n",
       "      <th>1</th>\n",
       "      <td>DL5678</td>\n",
       "      <td>Delta</td>\n",
       "      <td>2023-09-01 13:15:00</td>\n",
       "      <td>2023-09-01 15:30:00</td>\n",
       "      <td>5.0</td>\n",
       "    </tr>\n",
       "    <tr>\n",
       "      <th>2</th>\n",
       "      <td>UA9101</td>\n",
       "      <td>United Airlines</td>\n",
       "      <td>2023-09-01 17:00:00</td>\n",
       "      <td>2023-09-01 19:15:00</td>\n",
       "      <td>25.0</td>\n",
       "    </tr>\n",
       "    <tr>\n",
       "      <th>3</th>\n",
       "      <td>AA1234</td>\n",
       "      <td>American Airlines</td>\n",
       "      <td>2023-09-01 08:30:00</td>\n",
       "      <td>2023-09-01 22:45:00</td>\n",
       "      <td>30.0</td>\n",
       "    </tr>\n",
       "    <tr>\n",
       "      <th>4</th>\n",
       "      <td>DL5678</td>\n",
       "      <td>Delta</td>\n",
       "      <td>2023-09-02 14:00:00</td>\n",
       "      <td>2023-09-02 16:10:00</td>\n",
       "      <td>10.0</td>\n",
       "    </tr>\n",
       "    <tr>\n",
       "      <th>5</th>\n",
       "      <td>UA9101</td>\n",
       "      <td>United Airlines</td>\n",
       "      <td>2023-09-02 17:00:00</td>\n",
       "      <td>2023-09-02 19:15:00</td>\n",
       "      <td>20.0</td>\n",
       "    </tr>\n",
       "    <tr>\n",
       "      <th>6</th>\n",
       "      <td>AA1234</td>\n",
       "      <td>American Airlines</td>\n",
       "      <td>2023-09-02 20:30:00</td>\n",
       "      <td>2023-09-03 10:45:00</td>\n",
       "      <td>60.0</td>\n",
       "    </tr>\n",
       "    <tr>\n",
       "      <th>7</th>\n",
       "      <td>DL5678</td>\n",
       "      <td>Delta</td>\n",
       "      <td>2023-09-03 13:00:00</td>\n",
       "      <td>2023-09-03 15:30:00</td>\n",
       "      <td>10.0</td>\n",
       "    </tr>\n",
       "    <tr>\n",
       "      <th>8</th>\n",
       "      <td>UA9101</td>\n",
       "      <td>United Airlines</td>\n",
       "      <td>2023-09-03 15:00:00</td>\n",
       "      <td>2023-09-03 17:20:00</td>\n",
       "      <td>25.0</td>\n",
       "    </tr>\n",
       "    <tr>\n",
       "      <th>9</th>\n",
       "      <td>AA1234</td>\n",
       "      <td>American Airlines</td>\n",
       "      <td>2023-09-03 08:30:00</td>\n",
       "      <td>2023-09-03 10:00:00</td>\n",
       "      <td>15.0</td>\n",
       "    </tr>\n",
       "    <tr>\n",
       "      <th>10</th>\n",
       "      <td>DL5678</td>\n",
       "      <td>Delta</td>\n",
       "      <td>2023-09-04 12:30:00</td>\n",
       "      <td>2023-09-04 14:40:00</td>\n",
       "      <td>25.0</td>\n",
       "    </tr>\n",
       "    <tr>\n",
       "      <th>11</th>\n",
       "      <td>UA9101</td>\n",
       "      <td>United Airlines</td>\n",
       "      <td>2023-09-04 19:00:00</td>\n",
       "      <td>2023-09-04 21:15:00</td>\n",
       "      <td>45.0</td>\n",
       "    </tr>\n",
       "  </tbody>\n",
       "</table>\n",
       "</div>"
      ],
      "text/plain": [
       "   FlightNumber            Airline   DepartureDatetime     ArrivalDatetime  \\\n",
       "0        AA1234  American Airlines 2023-09-01 08:30:00 2023-09-01 10:45:00   \n",
       "1        DL5678              Delta 2023-09-01 13:15:00 2023-09-01 15:30:00   \n",
       "2        UA9101    United Airlines 2023-09-01 17:00:00 2023-09-01 19:15:00   \n",
       "3        AA1234  American Airlines 2023-09-01 08:30:00 2023-09-01 22:45:00   \n",
       "4        DL5678              Delta 2023-09-02 14:00:00 2023-09-02 16:10:00   \n",
       "5        UA9101    United Airlines 2023-09-02 17:00:00 2023-09-02 19:15:00   \n",
       "6        AA1234  American Airlines 2023-09-02 20:30:00 2023-09-03 10:45:00   \n",
       "7        DL5678              Delta 2023-09-03 13:00:00 2023-09-03 15:30:00   \n",
       "8        UA9101    United Airlines 2023-09-03 15:00:00 2023-09-03 17:20:00   \n",
       "9        AA1234  American Airlines 2023-09-03 08:30:00 2023-09-03 10:00:00   \n",
       "10       DL5678              Delta 2023-09-04 12:30:00 2023-09-04 14:40:00   \n",
       "11       UA9101    United Airlines 2023-09-04 19:00:00 2023-09-04 21:15:00   \n",
       "\n",
       "    DelayMinutes  \n",
       "0           15.0  \n",
       "1            5.0  \n",
       "2           25.0  \n",
       "3           30.0  \n",
       "4           10.0  \n",
       "5           20.0  \n",
       "6           60.0  \n",
       "7           10.0  \n",
       "8           25.0  \n",
       "9           15.0  \n",
       "10          25.0  \n",
       "11          45.0  "
      ]
     },
     "execution_count": 18,
     "metadata": {},
     "output_type": "execute_result"
    }
   ],
   "source": [
    "df"
   ]
  },
  {
   "cell_type": "markdown",
   "id": "e0b73803-7ba8-4000-8fc5-9e4d8d2cc021",
   "metadata": {},
   "source": [
    "## c. Duplicate Flight Entries:"
   ]
  },
  {
   "cell_type": "code",
   "execution_count": 19,
   "id": "228f65ff-7369-47ac-8fc5-ff4e8e599f19",
   "metadata": {},
   "outputs": [
    {
     "name": "stdout",
     "output_type": "stream",
     "text": [
      "0\n"
     ]
    }
   ],
   "source": [
    "# Checking for duplicates\n",
    "print(df.duplicated().sum())\n",
    "\n",
    "# Remove duplicates\n",
    "df.drop_duplicates(inplace=True)"
   ]
  },
  {
   "cell_type": "markdown",
   "id": "a5677850-4748-4893-82eb-9dccfa370b84",
   "metadata": {},
   "source": [
    "There aren’t any duplicate flight entries, but if there were, it’d make sense to remove them."
   ]
  },
  {
   "cell_type": "markdown",
   "id": "7558a64a-0c08-4744-aa51-1281f80da86c",
   "metadata": {},
   "source": [
    "## d. Inconsistent Time Entries:"
   ]
  },
  {
   "cell_type": "code",
   "execution_count": 20,
   "id": "a7215a5e-bd98-428d-af27-d9356b1fad9e",
   "metadata": {},
   "outputs": [
    {
     "name": "stdout",
     "output_type": "stream",
     "text": [
      "Inconsistent Time Entries (Before Correction):\n",
      "Empty DataFrame\n",
      "Columns: [FlightNumber, DepartureDatetime, ArrivalDatetime]\n",
      "Index: []\n",
      "All inconsistencies have been corrected.\n"
     ]
    }
   ],
   "source": [
    "# function to correct inconsistent times\n",
    "def correct_inconsistent_times(df):\n",
    "    # identify inconsistencies where arrival is before or equal to departure\n",
    "    inconsistent_entries = df[df['ArrivalDatetime'] <= df['DepartureDatetime']]\n",
    "    print(\"Inconsistent Time Entries (Before Correction):\")\n",
    "    print(inconsistent_entries[['FlightNumber', 'DepartureDatetime', 'ArrivalDatetime']])\n",
    "    \n",
    "    # correcting time inconsistencies by assuming arrival is the next day\n",
    "    df['ArrivalDatetime'] = df.apply(\n",
    "        lambda row: row['ArrivalDatetime'] + timedelta(days=1) \n",
    "        if row['ArrivalDatetime'] <= row['DepartureDatetime'] else row['ArrivalDatetime'], axis=1\n",
    "    )\n",
    "    \n",
    "    # printing the corrected entries\n",
    "    corrected_entries = df[df['ArrivalDatetime'] <= df['DepartureDatetime']]\n",
    "    if corrected_entries.empty:\n",
    "        print(\"All inconsistencies have been corrected.\")\n",
    "    else:\n",
    "        print(\"Remaining inconsistent entries:\", corrected_entries)\n",
    "\n",
    "    return df\n",
    "\n",
    "# apply the function to your dataframe\n",
    "df = correct_inconsistent_times(df)"
   ]
  },
  {
   "cell_type": "markdown",
   "id": "b72f29d0-c922-4600-a061-36d6d031b4c3",
   "metadata": {},
   "source": [
    "## Solution:\n",
    "- ### I have created a function to find the inconsistency and correct it. \n",
    "- ### One inconsistency Mentioned in question: AA1234 on 09/01/2023.\n",
    "- ### The inconsistency mentioned is that a flight departs at 8:30 AM and arrives at 10:45 PM on the same day.\n",
    "- ### It's flagged because the arrival is on the same day as departure, but it's not necessarily an error (could be a long flight or time zone crossing).\n",
    "- ### While it seems unusual, it's possible for a flight to leave in the morning and land later that evening.\n",
    "- ### So, it might not actually be a mistake.\n",
    "- ### Still, I created a logic to identify and analyze the time inconsistencies. I also added comments to explain the logic at each line\n"
   ]
  },
  {
   "cell_type": "markdown",
   "id": "3b39b4d0-0ed3-4b04-95b3-8a09f63f082c",
   "metadata": {},
   "source": [
    "# 2. DATA CLEANING:"
   ]
  },
  {
   "cell_type": "markdown",
   "id": "7d5e9a10-d546-4e48-bd6e-bcfad0e5b6a6",
   "metadata": {},
   "source": [
    "## a. Identify and handle any missing or inconsistent values in the dataset"
   ]
  },
  {
   "cell_type": "code",
   "execution_count": 21,
   "id": "46738147-8343-4681-8c99-62195f40e6c5",
   "metadata": {},
   "outputs": [],
   "source": [
    "# I've already done it above."
   ]
  },
  {
   "cell_type": "markdown",
   "id": "92a06844-dc2f-471e-b2c3-284298a82ed1",
   "metadata": {},
   "source": [
    "## b. Ensure all column data types are appropriate (e.g., dates as date types, times as time types)."
   ]
  },
  {
   "cell_type": "code",
   "execution_count": 22,
   "id": "da431df7-c4b3-48ae-800e-299368a52581",
   "metadata": {},
   "outputs": [
    {
     "name": "stdout",
     "output_type": "stream",
     "text": [
      "<class 'pandas.core.frame.DataFrame'>\n",
      "RangeIndex: 12 entries, 0 to 11\n",
      "Data columns (total 5 columns):\n",
      " #   Column             Non-Null Count  Dtype         \n",
      "---  ------             --------------  -----         \n",
      " 0   FlightNumber       12 non-null     object        \n",
      " 1   Airline            12 non-null     object        \n",
      " 2   DepartureDatetime  12 non-null     datetime64[ns]\n",
      " 3   ArrivalDatetime    12 non-null     datetime64[ns]\n",
      " 4   DelayMinutes       12 non-null     float64       \n",
      "dtypes: datetime64[ns](2), float64(1), object(2)\n",
      "memory usage: 612.0+ bytes\n"
     ]
    }
   ],
   "source": [
    "# I've already ensured it above\n",
    "df.info()"
   ]
  },
  {
   "cell_type": "code",
   "execution_count": 23,
   "id": "4e0d9199-193d-430e-ba5f-2b033842e043",
   "metadata": {},
   "outputs": [
    {
     "name": "stdout",
     "output_type": "stream",
     "text": [
      "Type of a single DepartureTime value:\n",
      "<class 'datetime.time'>\n"
     ]
    }
   ],
   "source": [
    "# here I'm performing operation on the df_copy dataset\n",
    "print(\"Type of a single DepartureTime value:\")\n",
    "print(type(df_copy['DepartureTime'].iloc[0]))"
   ]
  },
  {
   "cell_type": "markdown",
   "id": "8442c153-80c8-4b51-bd02-46755a98eb70",
   "metadata": {},
   "source": [
    "## c. Correct any inconsistencies or errors in times (e.g., arrival time should be later than departure time)."
   ]
  },
  {
   "cell_type": "code",
   "execution_count": 24,
   "id": "b179486e-f208-429b-b72a-e59c76b9d782",
   "metadata": {},
   "outputs": [],
   "source": [
    "# I've already calculated it above"
   ]
  },
  {
   "cell_type": "markdown",
   "id": "89bbb02a-b657-4d47-b441-cfe88d03bc48",
   "metadata": {},
   "source": [
    "# 3. DATA NORMALIZATION:"
   ]
  },
  {
   "cell_type": "markdown",
   "id": "d0f1c3cb-baa5-41ad-b986-cbd16c169cdc",
   "metadata": {},
   "source": [
    "## a. Convert DepartureDate and ArrivalDate columns to a standard YYYY-MM-DD format."
   ]
  },
  {
   "cell_type": "code",
   "execution_count": 25,
   "id": "30fad150-0b5b-4246-828a-929a53369c49",
   "metadata": {},
   "outputs": [
    {
     "data": {
      "text/html": [
       "<div>\n",
       "<style scoped>\n",
       "    .dataframe tbody tr th:only-of-type {\n",
       "        vertical-align: middle;\n",
       "    }\n",
       "\n",
       "    .dataframe tbody tr th {\n",
       "        vertical-align: top;\n",
       "    }\n",
       "\n",
       "    .dataframe thead th {\n",
       "        text-align: right;\n",
       "    }\n",
       "</style>\n",
       "<table border=\"1\" class=\"dataframe\">\n",
       "  <thead>\n",
       "    <tr style=\"text-align: right;\">\n",
       "      <th></th>\n",
       "      <th>FlightNumber</th>\n",
       "      <th>DepartureDate</th>\n",
       "      <th>DepartureTime</th>\n",
       "      <th>ArrivalDate</th>\n",
       "      <th>ArrivalTime</th>\n",
       "      <th>Airline</th>\n",
       "      <th>DelayMinutes</th>\n",
       "    </tr>\n",
       "  </thead>\n",
       "  <tbody>\n",
       "    <tr>\n",
       "      <th>0</th>\n",
       "      <td>AA1234</td>\n",
       "      <td>2023-09-01</td>\n",
       "      <td>08:30:00</td>\n",
       "      <td>2023-09-01</td>\n",
       "      <td>10:45:00</td>\n",
       "      <td>American Airlines</td>\n",
       "      <td>15.0</td>\n",
       "    </tr>\n",
       "    <tr>\n",
       "      <th>1</th>\n",
       "      <td>DL5678</td>\n",
       "      <td>2023-09-01</td>\n",
       "      <td>13:15:00</td>\n",
       "      <td>2023-09-01</td>\n",
       "      <td>15:30:00</td>\n",
       "      <td>Delta</td>\n",
       "      <td>5.0</td>\n",
       "    </tr>\n",
       "    <tr>\n",
       "      <th>2</th>\n",
       "      <td>UA9101</td>\n",
       "      <td>2023-09-01</td>\n",
       "      <td>17:00:00</td>\n",
       "      <td>2023-09-01</td>\n",
       "      <td>19:15:00</td>\n",
       "      <td>United Airlines</td>\n",
       "      <td>25.0</td>\n",
       "    </tr>\n",
       "    <tr>\n",
       "      <th>3</th>\n",
       "      <td>AA1234</td>\n",
       "      <td>2023-09-01</td>\n",
       "      <td>08:30:00</td>\n",
       "      <td>2023-09-01</td>\n",
       "      <td>22:45:00</td>\n",
       "      <td>American Airlines</td>\n",
       "      <td>30.0</td>\n",
       "    </tr>\n",
       "    <tr>\n",
       "      <th>4</th>\n",
       "      <td>DL5678</td>\n",
       "      <td>2023-09-02</td>\n",
       "      <td>14:00:00</td>\n",
       "      <td>2023-09-02</td>\n",
       "      <td>16:10:00</td>\n",
       "      <td>Delta</td>\n",
       "      <td>NaN</td>\n",
       "    </tr>\n",
       "    <tr>\n",
       "      <th>5</th>\n",
       "      <td>UA9101</td>\n",
       "      <td>2023-09-02</td>\n",
       "      <td>17:00:00</td>\n",
       "      <td>2023-09-02</td>\n",
       "      <td>19:15:00</td>\n",
       "      <td>United Airlines</td>\n",
       "      <td>20.0</td>\n",
       "    </tr>\n",
       "    <tr>\n",
       "      <th>6</th>\n",
       "      <td>AA1234</td>\n",
       "      <td>2023-09-02</td>\n",
       "      <td>20:30:00</td>\n",
       "      <td>2023-09-03</td>\n",
       "      <td>10:45:00</td>\n",
       "      <td>American Airlines</td>\n",
       "      <td>60.0</td>\n",
       "    </tr>\n",
       "    <tr>\n",
       "      <th>7</th>\n",
       "      <td>DL5678</td>\n",
       "      <td>2023-09-03</td>\n",
       "      <td>13:00:00</td>\n",
       "      <td>2023-09-03</td>\n",
       "      <td>15:30:00</td>\n",
       "      <td>Delta</td>\n",
       "      <td>10.0</td>\n",
       "    </tr>\n",
       "    <tr>\n",
       "      <th>8</th>\n",
       "      <td>UA9101</td>\n",
       "      <td>2023-09-03</td>\n",
       "      <td>15:00:00</td>\n",
       "      <td>2023-09-03</td>\n",
       "      <td>17:20:00</td>\n",
       "      <td>United Airlines</td>\n",
       "      <td>NaN</td>\n",
       "    </tr>\n",
       "    <tr>\n",
       "      <th>9</th>\n",
       "      <td>AA1234</td>\n",
       "      <td>2023-09-03</td>\n",
       "      <td>08:30:00</td>\n",
       "      <td>2023-09-03</td>\n",
       "      <td>10:00:00</td>\n",
       "      <td>American Airlines</td>\n",
       "      <td>15.0</td>\n",
       "    </tr>\n",
       "    <tr>\n",
       "      <th>10</th>\n",
       "      <td>DL5678</td>\n",
       "      <td>2023-09-04</td>\n",
       "      <td>12:30:00</td>\n",
       "      <td>2023-09-04</td>\n",
       "      <td>14:40:00</td>\n",
       "      <td>Delta</td>\n",
       "      <td>25.0</td>\n",
       "    </tr>\n",
       "    <tr>\n",
       "      <th>11</th>\n",
       "      <td>UA9101</td>\n",
       "      <td>2023-09-04</td>\n",
       "      <td>19:00:00</td>\n",
       "      <td>2023-09-04</td>\n",
       "      <td>21:15:00</td>\n",
       "      <td>United Airlines</td>\n",
       "      <td>45.0</td>\n",
       "    </tr>\n",
       "  </tbody>\n",
       "</table>\n",
       "</div>"
      ],
      "text/plain": [
       "   FlightNumber DepartureDate DepartureTime ArrivalDate ArrivalTime  \\\n",
       "0        AA1234    2023-09-01      08:30:00  2023-09-01    10:45:00   \n",
       "1        DL5678    2023-09-01      13:15:00  2023-09-01    15:30:00   \n",
       "2        UA9101    2023-09-01      17:00:00  2023-09-01    19:15:00   \n",
       "3        AA1234    2023-09-01      08:30:00  2023-09-01    22:45:00   \n",
       "4        DL5678    2023-09-02      14:00:00  2023-09-02    16:10:00   \n",
       "5        UA9101    2023-09-02      17:00:00  2023-09-02    19:15:00   \n",
       "6        AA1234    2023-09-02      20:30:00  2023-09-03    10:45:00   \n",
       "7        DL5678    2023-09-03      13:00:00  2023-09-03    15:30:00   \n",
       "8        UA9101    2023-09-03      15:00:00  2023-09-03    17:20:00   \n",
       "9        AA1234    2023-09-03      08:30:00  2023-09-03    10:00:00   \n",
       "10       DL5678    2023-09-04      12:30:00  2023-09-04    14:40:00   \n",
       "11       UA9101    2023-09-04      19:00:00  2023-09-04    21:15:00   \n",
       "\n",
       "              Airline  DelayMinutes  \n",
       "0   American Airlines          15.0  \n",
       "1               Delta           5.0  \n",
       "2     United Airlines          25.0  \n",
       "3   American Airlines          30.0  \n",
       "4               Delta           NaN  \n",
       "5     United Airlines          20.0  \n",
       "6   American Airlines          60.0  \n",
       "7               Delta          10.0  \n",
       "8     United Airlines           NaN  \n",
       "9   American Airlines          15.0  \n",
       "10              Delta          25.0  \n",
       "11    United Airlines          45.0  "
      ]
     },
     "execution_count": 25,
     "metadata": {},
     "output_type": "execute_result"
    }
   ],
   "source": [
    "# already calculated it above\n",
    "df_copy"
   ]
  },
  {
   "cell_type": "markdown",
   "id": "82c68ba3-af21-4c91-8144-7afbb375aa5a",
   "metadata": {},
   "source": [
    "## b. Convert DepartureTime and ArrivalTime columns to a 24-hour time format (e.g., &quot;08:30&quot; for 8:30 AM)."
   ]
  },
  {
   "cell_type": "code",
   "execution_count": 26,
   "id": "dfd9a2fd-f967-4f45-8064-1b84744c9910",
   "metadata": {},
   "outputs": [],
   "source": [
    "# again already done it above"
   ]
  },
  {
   "cell_type": "markdown",
   "id": "2895a48c-266e-4fc7-a409-a4ec8476dfd0",
   "metadata": {},
   "source": [
    "## C. Create a new column for FlightDuration by calculating the difference betweenDepartureTime and ArrivalTime on the same day."
   ]
  },
  {
   "cell_type": "code",
   "execution_count": 27,
   "id": "c6d761b9-92a2-468a-9f19-b35bc9fee7ad",
   "metadata": {},
   "outputs": [],
   "source": [
    "# calculating flight duration in minutes\n",
    "df['FlightDuration'] = (df['ArrivalDatetime'] - df['DepartureDatetime']).dt.total_seconds() / 60"
   ]
  },
  {
   "cell_type": "code",
   "execution_count": 28,
   "id": "90421b36-bbca-4482-9254-e99e52b3ddf3",
   "metadata": {},
   "outputs": [
    {
     "data": {
      "text/html": [
       "<div>\n",
       "<style scoped>\n",
       "    .dataframe tbody tr th:only-of-type {\n",
       "        vertical-align: middle;\n",
       "    }\n",
       "\n",
       "    .dataframe tbody tr th {\n",
       "        vertical-align: top;\n",
       "    }\n",
       "\n",
       "    .dataframe thead th {\n",
       "        text-align: right;\n",
       "    }\n",
       "</style>\n",
       "<table border=\"1\" class=\"dataframe\">\n",
       "  <thead>\n",
       "    <tr style=\"text-align: right;\">\n",
       "      <th></th>\n",
       "      <th>FlightNumber</th>\n",
       "      <th>Airline</th>\n",
       "      <th>DepartureDatetime</th>\n",
       "      <th>ArrivalDatetime</th>\n",
       "      <th>DelayMinutes</th>\n",
       "      <th>FlightDuration</th>\n",
       "    </tr>\n",
       "  </thead>\n",
       "  <tbody>\n",
       "    <tr>\n",
       "      <th>0</th>\n",
       "      <td>AA1234</td>\n",
       "      <td>American Airlines</td>\n",
       "      <td>2023-09-01 08:30:00</td>\n",
       "      <td>2023-09-01 10:45:00</td>\n",
       "      <td>15.0</td>\n",
       "      <td>135.0</td>\n",
       "    </tr>\n",
       "    <tr>\n",
       "      <th>1</th>\n",
       "      <td>DL5678</td>\n",
       "      <td>Delta</td>\n",
       "      <td>2023-09-01 13:15:00</td>\n",
       "      <td>2023-09-01 15:30:00</td>\n",
       "      <td>5.0</td>\n",
       "      <td>135.0</td>\n",
       "    </tr>\n",
       "    <tr>\n",
       "      <th>2</th>\n",
       "      <td>UA9101</td>\n",
       "      <td>United Airlines</td>\n",
       "      <td>2023-09-01 17:00:00</td>\n",
       "      <td>2023-09-01 19:15:00</td>\n",
       "      <td>25.0</td>\n",
       "      <td>135.0</td>\n",
       "    </tr>\n",
       "    <tr>\n",
       "      <th>3</th>\n",
       "      <td>AA1234</td>\n",
       "      <td>American Airlines</td>\n",
       "      <td>2023-09-01 08:30:00</td>\n",
       "      <td>2023-09-01 22:45:00</td>\n",
       "      <td>30.0</td>\n",
       "      <td>855.0</td>\n",
       "    </tr>\n",
       "    <tr>\n",
       "      <th>4</th>\n",
       "      <td>DL5678</td>\n",
       "      <td>Delta</td>\n",
       "      <td>2023-09-02 14:00:00</td>\n",
       "      <td>2023-09-02 16:10:00</td>\n",
       "      <td>10.0</td>\n",
       "      <td>130.0</td>\n",
       "    </tr>\n",
       "    <tr>\n",
       "      <th>5</th>\n",
       "      <td>UA9101</td>\n",
       "      <td>United Airlines</td>\n",
       "      <td>2023-09-02 17:00:00</td>\n",
       "      <td>2023-09-02 19:15:00</td>\n",
       "      <td>20.0</td>\n",
       "      <td>135.0</td>\n",
       "    </tr>\n",
       "    <tr>\n",
       "      <th>6</th>\n",
       "      <td>AA1234</td>\n",
       "      <td>American Airlines</td>\n",
       "      <td>2023-09-02 20:30:00</td>\n",
       "      <td>2023-09-03 10:45:00</td>\n",
       "      <td>60.0</td>\n",
       "      <td>855.0</td>\n",
       "    </tr>\n",
       "    <tr>\n",
       "      <th>7</th>\n",
       "      <td>DL5678</td>\n",
       "      <td>Delta</td>\n",
       "      <td>2023-09-03 13:00:00</td>\n",
       "      <td>2023-09-03 15:30:00</td>\n",
       "      <td>10.0</td>\n",
       "      <td>150.0</td>\n",
       "    </tr>\n",
       "    <tr>\n",
       "      <th>8</th>\n",
       "      <td>UA9101</td>\n",
       "      <td>United Airlines</td>\n",
       "      <td>2023-09-03 15:00:00</td>\n",
       "      <td>2023-09-03 17:20:00</td>\n",
       "      <td>25.0</td>\n",
       "      <td>140.0</td>\n",
       "    </tr>\n",
       "    <tr>\n",
       "      <th>9</th>\n",
       "      <td>AA1234</td>\n",
       "      <td>American Airlines</td>\n",
       "      <td>2023-09-03 08:30:00</td>\n",
       "      <td>2023-09-03 10:00:00</td>\n",
       "      <td>15.0</td>\n",
       "      <td>90.0</td>\n",
       "    </tr>\n",
       "    <tr>\n",
       "      <th>10</th>\n",
       "      <td>DL5678</td>\n",
       "      <td>Delta</td>\n",
       "      <td>2023-09-04 12:30:00</td>\n",
       "      <td>2023-09-04 14:40:00</td>\n",
       "      <td>25.0</td>\n",
       "      <td>130.0</td>\n",
       "    </tr>\n",
       "    <tr>\n",
       "      <th>11</th>\n",
       "      <td>UA9101</td>\n",
       "      <td>United Airlines</td>\n",
       "      <td>2023-09-04 19:00:00</td>\n",
       "      <td>2023-09-04 21:15:00</td>\n",
       "      <td>45.0</td>\n",
       "      <td>135.0</td>\n",
       "    </tr>\n",
       "  </tbody>\n",
       "</table>\n",
       "</div>"
      ],
      "text/plain": [
       "   FlightNumber            Airline   DepartureDatetime     ArrivalDatetime  \\\n",
       "0        AA1234  American Airlines 2023-09-01 08:30:00 2023-09-01 10:45:00   \n",
       "1        DL5678              Delta 2023-09-01 13:15:00 2023-09-01 15:30:00   \n",
       "2        UA9101    United Airlines 2023-09-01 17:00:00 2023-09-01 19:15:00   \n",
       "3        AA1234  American Airlines 2023-09-01 08:30:00 2023-09-01 22:45:00   \n",
       "4        DL5678              Delta 2023-09-02 14:00:00 2023-09-02 16:10:00   \n",
       "5        UA9101    United Airlines 2023-09-02 17:00:00 2023-09-02 19:15:00   \n",
       "6        AA1234  American Airlines 2023-09-02 20:30:00 2023-09-03 10:45:00   \n",
       "7        DL5678              Delta 2023-09-03 13:00:00 2023-09-03 15:30:00   \n",
       "8        UA9101    United Airlines 2023-09-03 15:00:00 2023-09-03 17:20:00   \n",
       "9        AA1234  American Airlines 2023-09-03 08:30:00 2023-09-03 10:00:00   \n",
       "10       DL5678              Delta 2023-09-04 12:30:00 2023-09-04 14:40:00   \n",
       "11       UA9101    United Airlines 2023-09-04 19:00:00 2023-09-04 21:15:00   \n",
       "\n",
       "    DelayMinutes  FlightDuration  \n",
       "0           15.0           135.0  \n",
       "1            5.0           135.0  \n",
       "2           25.0           135.0  \n",
       "3           30.0           855.0  \n",
       "4           10.0           130.0  \n",
       "5           20.0           135.0  \n",
       "6           60.0           855.0  \n",
       "7           10.0           150.0  \n",
       "8           25.0           140.0  \n",
       "9           15.0            90.0  \n",
       "10          25.0           130.0  \n",
       "11          45.0           135.0  "
      ]
     },
     "execution_count": 28,
     "metadata": {},
     "output_type": "execute_result"
    }
   ],
   "source": [
    "df"
   ]
  },
  {
   "cell_type": "markdown",
   "id": "85c66a41-d810-4558-aaa6-dac709b83724",
   "metadata": {},
   "source": [
    "# 4. DATA ANALYSIS:"
   ]
  },
  {
   "cell_type": "markdown",
   "id": "f801c64f-2f59-484d-9399-9b3b7c40d336",
   "metadata": {},
   "source": [
    "## a. Analyze the distribution of delays and identify any trends or patterns."
   ]
  },
  {
   "cell_type": "code",
   "execution_count": 29,
   "id": "dff68b1f-59d5-4576-bdad-304f6ea6715e",
   "metadata": {},
   "outputs": [
    {
     "name": "stdout",
     "output_type": "stream",
     "text": [
      "count    12.000000\n",
      "mean     23.750000\n",
      "std      15.685112\n",
      "min       5.000000\n",
      "25%      13.750000\n",
      "50%      22.500000\n",
      "75%      26.250000\n",
      "max      60.000000\n",
      "Name: DelayMinutes, dtype: float64\n"
     ]
    }
   ],
   "source": [
    "delay_distribution = df['DelayMinutes'].describe()\n",
    "print(delay_distribution)"
   ]
  },
  {
   "cell_type": "code",
   "execution_count": 30,
   "id": "9b569fdf-91f4-4d4e-97de-c7da95cea49f",
   "metadata": {},
   "outputs": [
    {
     "data": {
      "image/png": "[encoded data removed]",
      "text/plain": [
       "<Figure size 1000x600 with 1 Axes>"
      ]
     },
     "metadata": {},
     "output_type": "display_data"
    }
   ],
   "source": [
    "plt.figure(figsize=(10, 6))\n",
    "sns.histplot(df['DelayMinutes'].dropna(), bins=10, kde=True)\n",
    "plt.title('Distribution of Flight Delays')\n",
    "plt.xlabel('Delay Minutes')\n",
    "plt.ylabel('Frequency')\n",
    "# plt.savefig('Distribution of Flight Delays.png')\n",
    "plt.show()"
   ]
  },
  {
   "cell_type": "markdown",
   "id": "2920317a-0654-4c91-ac27-e536f8d9371f",
   "metadata": {},
   "source": [
    "## **Analysis:**\n",
    "- ### These statistics suggest that while most delays are around 23.75 minutes\n",
    "- ### There is a significant variation, with some delays being much shorter and others much longer\n",
    "- ### The median being close to the mean indicates a relatively symmetric distribution but the presence of a maximum value<br>of 60 minutes suggests there are some outliers and a right-skewed distribution."
   ]
  },
  {
   "cell_type": "markdown",
   "id": "9033df74-fdad-4895-9272-7291be1182a7",
   "metadata": {},
   "source": [
    "## b. Calculate the average delay for each airline."
   ]
  },
  {
   "cell_type": "code",
   "execution_count": 31,
   "id": "c41ac1c8-bcfa-4522-894b-c5d28b94964f",
   "metadata": {},
   "outputs": [
    {
     "name": "stdout",
     "output_type": "stream",
     "text": [
      "             Airline  DelayMinutes\n",
      "0  American Airlines         30.00\n",
      "1              Delta         12.50\n",
      "2    United Airlines         28.75\n"
     ]
    }
   ],
   "source": [
    "average_delay_by_airline = df.groupby('Airline')['DelayMinutes'].mean().reset_index()\n",
    "print(average_delay_by_airline)"
   ]
  },
  {
   "cell_type": "code",
   "execution_count": 32,
   "id": "a3cce141-6844-471f-84c6-7d871ff44729",
   "metadata": {},
   "outputs": [
    {
     "data": {
      "image/png": "[encoded data removed]",
      "text/plain": [
       "<Figure size 1000x600 with 1 Axes>"
      ]
     },
     "metadata": {},
     "output_type": "display_data"
    }
   ],
   "source": [
    "plt.figure(figsize=(10, 6))\n",
    "sns.barplot(x='Airline', y='DelayMinutes', data=average_delay_by_airline)\n",
    "plt.title('Average Delay by Airline')\n",
    "plt.xlabel('Airline')\n",
    "plt.ylabel('Average Delay Minutes')\n",
    "# plt.savefig('Average Delay by Airline.png')\n",
    "plt.show()"
   ]
  },
  {
   "cell_type": "code",
   "execution_count": 33,
   "id": "9a3b83e0-7e60-4089-b86b-a09f75ab6b82",
   "metadata": {},
   "outputs": [
    {
     "data": {
      "image/png": "[encoded data removed]",
      "text/plain": [
       "<Figure size 640x480 with 1 Axes>"
      ]
     },
     "metadata": {},
     "output_type": "display_data"
    }
   ],
   "source": [
    "# Plot a boxplot to compare delay distributions across airlines\n",
    "sns.boxplot(x='Airline', y='DelayMinutes', data=df)\n",
    "plt.title('Delay Distribution by Airline')\n",
    "plt.xlabel('Airline')\n",
    "plt.ylabel('Delay (Minutes)')\n",
    "plt.savefig('Delay Distribution by Airline.png')\n",
    "plt.show()"
   ]
  },
  {
   "cell_type": "markdown",
   "id": "b0debc48-23e5-4b8d-b134-0b511b78547b",
   "metadata": {},
   "source": [
    "## **Analysis:**\n",
    "- ### This suggests that Delta has the shortest average delay time\n",
    "- ### while American Airlines has the longest.\n",
    "- ### United Airlines falls in between but is closer to American Airlines in terms of delay duration."
   ]
  },
  {
   "cell_type": "markdown",
   "id": "26c5f6c3-d49d-45ec-b522-b169b8316716",
   "metadata": {},
   "source": [
    "## c. Identify any relationships between flight delays and departure times (e.g., are flights departing later in the day more likely to be delayed?)."
   ]
  },
  {
   "cell_type": "code",
   "execution_count": 34,
   "id": "641b9e3d-162d-44d3-944e-7951e22f1708",
   "metadata": {},
   "outputs": [
    {
     "data": {
      "text/plain": [
       "DepartureHour\n",
       "8     20.0\n",
       "12    25.0\n",
       "13     7.5\n",
       "14    10.0\n",
       "15    25.0\n",
       "17    22.5\n",
       "19    45.0\n",
       "20    60.0\n",
       "Name: DelayMinutes, dtype: float64"
      ]
     },
     "execution_count": 34,
     "metadata": {},
     "output_type": "execute_result"
    }
   ],
   "source": [
    "df['DepartureHour'] = df['DepartureDatetime'].dt.hour\n",
    "avg_delay_by_hour = df.groupby('DepartureHour')['DelayMinutes'].mean()\n",
    "avg_delay_by_hour"
   ]
  },
  {
   "cell_type": "code",
   "execution_count": 35,
   "id": "ca629432-bc19-47b5-a953-7af9168ba5ee",
   "metadata": {},
   "outputs": [
    {
     "data": {
      "image/png": "[encoded data removed]",
      "text/plain": [
       "<Figure size 1000x600 with 1 Axes>"
      ]
     },
     "metadata": {},
     "output_type": "display_data"
    }
   ],
   "source": [
    "plt.figure(figsize=(10, 6))\n",
    "sns.boxplot(x='DepartureHour', y='DelayMinutes', data=df)\n",
    "plt.title('Flight Delays by Departure Hour')\n",
    "plt.xlabel('Departure Hour')\n",
    "plt.ylabel('Delay Minutes')\n",
    "# plt.savefig('Flight Delays by Departure Hour.png')\n",
    "plt.show()"
   ]
  },
  {
   "cell_type": "code",
   "execution_count": 36,
   "id": "00131d9e-0d0f-49c4-b382-bbcea91efc33",
   "metadata": {},
   "outputs": [],
   "source": [
    "# dropping the 'DepartureHour' column as it's unnecessary\n",
    "df.drop('DepartureHour', axis=1, inplace=True)"
   ]
  },
  {
   "cell_type": "markdown",
   "id": "0242ca08-768e-4bb4-a87b-069b9036e9df",
   "metadata": {},
   "source": [
    "## **Analysis:**\n",
    "- ### The highest delay occurs at 20:00 with 60 minutes.\n",
    "- ### Significant delays are also observed at 19:00 (45.0 minutes) and 12:00 and 15:00 (both 25.0 minutes)\n",
    "- ### The lowest delay is at 13:00 with 7.5 minutes\n",
    "- ### Delays tend to increase significantly in the evening hours, particularly after 17:00\n",
    "\n",
    "\n",
    "## **General Trend:**\n",
    "- ### Delays tend to increase significantly in the evening hours, particularly after 17:00.\n",
    "- ### Midday hours (12:00 - 15:00) show moderate delays, while early morning (8:00) and early afternoon (13:00 - 14:00) have relatively lower delays.\n",
    "\n",
    "\n",
    "## **Possible Causes:**\n",
    "- ### Evening delays could be due to accumulated delays throughout the day, higher traffic, or operational constraints.\n",
    "- ### Lower delays in the early afternoon might indicate less congestion or more efficient operations during these hours."
   ]
  },
  {
   "cell_type": "markdown",
   "id": "2c732470-558a-44d1-a293-280e36271d54",
   "metadata": {},
   "source": [
    "## d. Determine if there is a significant difference in delays between different airlines."
   ]
  },
  {
   "cell_type": "code",
   "execution_count": 37,
   "id": "997e0127-32c8-4dbb-be9c-6edc2f6f3ad6",
   "metadata": {},
   "outputs": [
    {
     "name": "stdout",
     "output_type": "stream",
     "text": [
      "ANOVA F-statistic: 1.765273311897106, p-value: 0.22554137150689818\n",
      "There is no statistically significant difference in delays between airlines.\n"
     ]
    }
   ],
   "source": [
    "# Filtering the data for each airline, ensuring that there are no NaN values in DelayMinutes\n",
    "aa_delays = df[df['Airline'] == 'American Airlines']['DelayMinutes'].dropna()\n",
    "delta_delays = df[df['Airline'] == 'Delta']['DelayMinutes'].dropna()\n",
    "united_delays = df[df['Airline'] == 'United Airlines']['DelayMinutes'].dropna()\n",
    "\n",
    "# performing ANOVA test to see if there's a significant difference in delays\n",
    "anova_result = stats.f_oneway(aa_delays, delta_delays, united_delays)\n",
    "\n",
    "# printing the ANOVA result\n",
    "print(f'ANOVA F-statistic: {anova_result.statistic}, p-value: {anova_result.pvalue}')\n",
    "\n",
    "# interpreting the p-value\n",
    "if anova_result.pvalue < 0.05:\n",
    "    print(\"There is a statistically significant difference in delays between airlines.\")\n",
    "else:\n",
    "    print(\"There is no statistically significant difference in delays between airlines.\")\n"
   ]
  },
  {
   "cell_type": "markdown",
   "id": "98978698-87d7-4d39-9f57-305ec206b3cf",
   "metadata": {},
   "source": [
    "- I'm conducting an ANOVA test to check if there is a significant difference in flight delays between American Airlines, Delta, and United Airlines. \n",
    "- First, I filter out the delay data for each airline, ensuring no missing values. Then, I run the ANOVA test to compare the average delays across the three airlines.\n",
    "- Based on the p-value, I interpret whether the delay differences are statistically significant."
   ]
  },
  {
   "cell_type": "code",
   "execution_count": 38,
   "id": "4bca55a7-104b-4b88-abe7-56b90ab9c6af",
   "metadata": {},
   "outputs": [],
   "source": [
    "# exporting cleaned and normalized dataset to CSV\n",
    "df.to_csv('cleaned_normalized_aviation_data.csv', index=False)"
   ]
  },
  {
   "cell_type": "markdown",
   "id": "e98ddf06-ea67-408c-bc7c-60e0b238a4a7",
   "metadata": {},
   "source": [
    "# INSIGHTS:"
   ]
  },
  {
   "cell_type": "markdown",
   "id": "2fae3c59-a55b-454d-aba5-f0430d9967ba",
   "metadata": {},
   "source": [
    "### Potential causes:\n",
    "\n",
    "1. **Time of day effect**:\n",
    "   - Delays seem to increase as the day progresses, with evening flights experiencing the longest delays.\n",
    "   - **Cause**: This could be due to a cumulative effect of earlier delays, air traffic congestion, or crew scheduling issues.\n",
    "\n",
    "2. **Airline-specific factors**:\n",
    "   - Different airlines show varying average delay times.\n",
    "   - **Cause**: This might be due to differences in operational efficiency, fleet age, route network complexity, or scheduling practices.\n",
    "\n",
    "3. **Airport or air traffic control (ATC) congestion**:\n",
    "   - The pattern of increasing delays throughout the day could indicate growing congestion at airports or in airspace.\n",
    "\n",
    "4. **Possible weather or seasonal effects**:\n",
    "   - Without more context, we can't rule out weather as a contributing factor, especially for the longer delays.\n",
    "\n",
    "### Recommendations:\n",
    "\n",
    "1. **Improve schedule padding for later flights**:\n",
    "   - Airlines could add more buffer time to evening flight schedules to account for the higher likelihood of delays.\n",
    "\n",
    "2. **Enhance turnaround efficiency**:\n",
    "   - Focus on improving ground operations, especially for airlines with higher average delays (American Airlines and United Airlines in this case).\n",
    "\n",
    "3. **Implement better delay recovery strategies**:\n",
    "   - Develop and employ more effective methods to catch up on time throughout the day to prevent delay accumulation.\n",
    "\n",
    "4. **Optimize crew scheduling**:\n",
    "   - Ensure crew rotations and scheduling take into account the higher likelihood of delays later in the day.\n",
    "\n",
    "5. **Invest in predictive analytics**:\n",
    "   - Use data-driven approaches to anticipate potential delays and proactively address them.\n",
    "\n",
    "6. **Collaborate with ATC and airports**:\n",
    "   - Work on solutions to reduce congestion during peak hours, possibly by adjusting flight schedules or improving air traffic management systems.\n",
    "\n",
    "7. **Fleet management**:\n",
    "   - For airlines with higher delays, consider reviewing their fleet composition and maintenance schedules to ensure they have the right aircraft available at the right times.\n",
    "\n",
    "8. **Customer communication**:\n",
    "   - Improve systems for keeping passengers informed about delays and their causes, which can help manage expectations and reduce frustration."
   ]
  }
 ],
 "metadata": {
  "kernelspec": {
   "display_name": "Python 3 (ipykernel)",
   "language": "python",
   "name": "python3"
  },
  "language_info": {
   "codemirror_mode": {
    "name": "ipython",
    "version": 3
   },
   "file_extension": ".py",
   "mimetype": "text/x-python",
   "name": "python",
   "nbconvert_exporter": "python",
   "pygments_lexer": "ipython3",
   "version": "3.12.4"
  }
 },
 "nbformat": 4,
 "nbformat_minor": 5
}
